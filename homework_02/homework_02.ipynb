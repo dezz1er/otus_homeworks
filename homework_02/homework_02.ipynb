{
  "cells": [
    {
      "cell_type": "markdown",
      "id": "a2c501e6",
      "metadata": {
        "id": "a2c501e6"
      },
      "source": [
        "# Домашнее задание: Управляющие конструкции"
      ]
    },
    {
      "cell_type": "markdown",
      "id": "3e4cac4a",
      "metadata": {
        "id": "3e4cac4a"
      },
      "source": [
        "## Задание 1: Получение однозначного числа\n",
        "\n",
        "Пользователь вводит целое число, программа складывает все цифры числа, с полученным числом — то же самое, и так до тех пор, пока не получится однозначное число.\n",
        "\n",
        "<br>\n",
        "\n",
        "**Примеры:**\n",
        "* `545   -> 5`\n",
        "* `12345 -> 6`"
      ]
    },
    {
      "cell_type": "code",
      "execution_count": 5,
      "id": "344e919f",
      "metadata": {
        "id": "344e919f",
        "outputId": "1c8a062e-6702-4528-ce70-04760deca998",
        "colab": {
          "base_uri": "https://localhost:8080/"
        }
      },
      "outputs": [
        {
          "output_type": "stream",
          "name": "stdout",
          "text": [
            "12345\n",
            "6\n"
          ]
        }
      ],
      "source": [
        "n = int(input())\n",
        "\n",
        "while n >= 10:\n",
        "    n = sum(int(digit) for digit in str(n))\n",
        "\n",
        "print(n)"
      ]
    },
    {
      "cell_type": "markdown",
      "id": "45527a4a",
      "metadata": {
        "id": "45527a4a"
      },
      "source": [
        "## Задание 2: Кинотеатр\n",
        "\n",
        "Дан список списков, каждый вложенный список состоит из 1 и 0, количество вложенных списков — количество рядов. Пользователь вводит, сколько билетов ему требуется. Программа должна найти ряд, где можно приобрести нужное количество билетов (места должны быть рядом). Если таких рядов несколько, то ближайший к экрану (ближайшим считается нулевой ряд). Если таких мест нет, то вывести False.\n",
        "\n",
        "<br>\n",
        "\n",
        "**Примеры:**\n",
        "* `[[0,1,1,0], [1,0,0,0], [0,1,0,0]], 2 -> 1`\n",
        "* `[[0,1,1,0], [1,0,1,0], [1,1,0,1]], 2 -> False`"
      ]
    },
    {
      "cell_type": "code",
      "execution_count": 2,
      "id": "3a29082d",
      "metadata": {
        "id": "3a29082d",
        "outputId": "5a3b3739-90a9-43f5-a673-938bd9299d82",
        "colab": {
          "base_uri": "https://localhost:8080/"
        }
      },
      "outputs": [
        {
          "output_type": "stream",
          "name": "stdout",
          "text": [
            "[[0,1,1,0], [1,0,1,0], [1,1,0,1]], 2\n",
            "False\n"
          ]
        }
      ],
      "source": [
        "import ast\n",
        "\n",
        "user_input = input()\n",
        "\n",
        "matrix_str, num_str = user_input.rsplit(\",\", 1)\n",
        "seats = ast.literal_eval(matrix_str.strip())\n",
        "tickets = int(num_str.strip())\n",
        "\n",
        "found = False\n",
        "\n",
        "for row_index in range(len(seats)):\n",
        "    row = seats[row_index]\n",
        "    for i in range(len(row) - tickets + 1):\n",
        "        if all(seat == 0 for seat in row[i:i + tickets]):\n",
        "            print(row_index)\n",
        "            found = True\n",
        "            break\n",
        "    if found:\n",
        "        break\n",
        "\n",
        "if not found:\n",
        "    print(False)"
      ]
    },
    {
      "cell_type": "markdown",
      "id": "7b7f098c",
      "metadata": {
        "id": "7b7f098c"
      },
      "source": [
        "## Задание 3: Алгоритм RLE\n",
        "\n",
        "Необходимо написать упрощенную версию алгоритма RLE.\n",
        "Алгоритм RLE объединяет подряд идущие символы в коэффициент и символ.\n",
        "\n",
        "<br>\n",
        "\n",
        "**Примеры:**\n",
        "* `asssdddsssddd -> 1a3s3d3s3d`\n",
        "* `aaabbbbccccc  -> 3a4b5c`\n",
        "* `abcba         -> 1a1b1c1b1a`"
      ]
    },
    {
      "cell_type": "code",
      "execution_count": 8,
      "id": "e0d30ec2",
      "metadata": {
        "id": "e0d30ec2",
        "outputId": "5e2b2ef5-7896-4732-dec6-d3d480142f73",
        "colab": {
          "base_uri": "https://localhost:8080/"
        }
      },
      "outputs": [
        {
          "output_type": "stream",
          "name": "stdout",
          "text": [
            "aaabbbbccccc\n",
            "3a4b5c\n"
          ]
        }
      ],
      "source": [
        "string = input()\n",
        "\n",
        "result = \"\"\n",
        "count = 1\n",
        "\n",
        "for i in range(1, len(string)):\n",
        "    if string[i] == string[i - 1]:\n",
        "        count += 1\n",
        "    else:\n",
        "        result += str(count) + string[i - 1]\n",
        "        count = 1\n",
        "\n",
        "result += str(count) + string[-1]\n",
        "\n",
        "print(result)\n"
      ]
    },
    {
      "cell_type": "markdown",
      "id": "f24d5e58",
      "metadata": {
        "id": "f24d5e58"
      },
      "source": [
        "## Задание 4: Шифр Цезаря\n",
        "\n",
        "Реализуйте программу для шифрования текста с помощью шифра Цезаря.  \n",
        "Шифр Цезаря — это метод шифрования, при котором каждая буква в тексте заменяется буквой, стоящей на фиксированное число позиций дальше в алфавите.\n",
        "\n",
        "### Требования\n",
        "1. Программа должна принимать на вход:\n",
        "   - Строку текста для шифрования\n",
        "   - Ключ шифра (число от 0 до 25)\n",
        "\n",
        "2. Правила шифрования:\n",
        "   - Шифруются только латинские буквы (a-z, A-Z)\n",
        "   - Сохраняется регистр букв (заглавные остаются заглавными)\n",
        "   - Пробелы, цифры и знаки препинания остаются без изменений\n",
        "   - Сдвиг циклический (после 'z' идет 'a', после 'Z' идет 'A')\n",
        "\n",
        "### Примеры\n",
        "\n",
        "* `\"Hello World\", 3      -> \"Khoor Zruog\"`\n",
        "* `\"Python is great!\", 5 -> \"Udymts nx lwjfy!\"`\n",
        "* `\"XYZ abc\", 3          -> \"ABC def\"`\n",
        "* `\"Test 123\", 1         -> \"Uftu 123\"`\n",
        "\n",
        "### Алгоритм\n",
        "* Для каждого символа в строке:\n",
        "   - Если это латинская буква, найти её позицию в алфавите\n",
        "   - Добавить к позиции значение ключа\n",
        "   - Если результат больше 25, использовать остаток от деления на 26\n",
        "   - Преобразовать обратно в букву, сохранив регистр\n",
        "   - Если это не буква, оставить символ без изменений\n"
      ]
    },
    {
      "cell_type": "code",
      "execution_count": 13,
      "id": "6a075d20",
      "metadata": {
        "id": "6a075d20",
        "outputId": "08361776-ba01-48dc-d671-9aa6a2c4b0a9",
        "colab": {
          "base_uri": "https://localhost:8080/"
        }
      },
      "outputs": [
        {
          "output_type": "stream",
          "name": "stdout",
          "text": [
            "\"Test 123\", 1\n",
            "\"Uftu 123\"\n"
          ]
        }
      ],
      "source": [
        "text, key = input().split(',')\n",
        "key = int(key)\n",
        "result = \"\"\n",
        "\n",
        "for char in text:\n",
        "    if 'a' <= char <= 'z':\n",
        "        shifted = (ord(char) - ord('a') + key) % 26\n",
        "        result += chr(ord('a') + shifted)\n",
        "    elif 'A' <= char <= 'Z':\n",
        "        shifted = (ord(char) - ord('A') + key) % 26\n",
        "        result += chr(ord('A') + shifted)\n",
        "    else:\n",
        "        result += char\n",
        "\n",
        "print(result)\n"
      ]
    },
    {
      "cell_type": "markdown",
      "id": "c88bf52c",
      "metadata": {
        "id": "c88bf52c"
      },
      "source": [
        "## Задание 5: Табель успеваемости\n",
        "\n",
        "Пользователь в бесконечном цикле (пока не будет введена пустая строка) вводит строки вида: 'название предмета' 'фамилия ученика' 'оценка'. После окончания ввода программа выводит в консоль название предмета, далее список учеников и все их оценки в виде таблицы.\n",
        "\n",
        "<br>\n",
        "\n",
        "**Примеры:**\n",
        "\n",
        "<br>\n",
        "\n",
        "*Ввод:*\n",
        "```python\n",
        "Математика Иванов  5\n",
        "Математика Иванов  4\n",
        "Литература Иванов  3\n",
        "Математика Петров  5\n",
        "Литература Сидоров 3\n",
        "Литература Петров  5\n",
        "Литература Иванов  4\n",
        "Математика Сидоров 3\n",
        "Математика Петров  5\n",
        "```\n",
        "\n",
        "<br>\n",
        "\n",
        "*Результат:*\n",
        "```python\n",
        "Математика # вводим название предмета\n",
        "\n",
        "# выводим список учеников и их оценки\n",
        "Иванов  5 4\n",
        "Петров  5 5\n",
        "Сидоров 3\n",
        "```\n",
        "\n",
        "```python\n",
        "Литература # вводим название предмета\n",
        "\n",
        "# выводим список учеников и их оценки\n",
        "Иванов  3 4\n",
        "Сидоров 3\n",
        "Петров  5\n",
        "```"
      ]
    },
    {
      "cell_type": "code",
      "execution_count": 17,
      "id": "196f6ff4",
      "metadata": {
        "id": "196f6ff4",
        "outputId": "348194d5-759a-477d-a308-77d23f02c0e2",
        "colab": {
          "base_uri": "https://localhost:8080/"
        }
      },
      "outputs": [
        {
          "output_type": "stream",
          "name": "stdout",
          "text": [
            "Математика Иванов  5\n",
            "Математика Иванов  4\n",
            "Литература Иванов  3\n",
            "Математика Петров  5\n",
            "Литература Сидоров 3\n",
            "Литература Петров  5\n",
            "Литература Иванов  4\n",
            "Математика Сидоров 3\n",
            "Математика Петров  5\n",
            "\n",
            "Математика\n",
            "Иванов 5 4\n",
            "Петров 5 5\n",
            "Сидоров 3\n",
            "\n",
            "Литература\n",
            "Иванов 3 4\n",
            "Сидоров 3\n",
            "Петров 5\n",
            "\n"
          ]
        }
      ],
      "source": [
        "grades = {}\n",
        "\n",
        "while True:\n",
        "    line = input()\n",
        "    if line == \"\":\n",
        "        break\n",
        "\n",
        "    parts = line.split()\n",
        "\n",
        "    subject, surname, grade = parts\n",
        "\n",
        "    if subject not in grades:\n",
        "        grades[subject] = {}\n",
        "    if surname not in grades[subject]:\n",
        "        grades[subject][surname] = []\n",
        "\n",
        "    grades[subject][surname].append(grade)\n",
        "\n",
        "for subject in grades:\n",
        "    print(subject)\n",
        "    for surname in grades[subject]:\n",
        "        print(surname, \" \".join(grades[subject][surname]))\n",
        "    print()\n"
      ]
    },
    {
      "cell_type": "code",
      "source": [],
      "metadata": {
        "id": "CzH8lH03Kz28"
      },
      "id": "CzH8lH03Kz28",
      "execution_count": null,
      "outputs": []
    }
  ],
  "metadata": {
    "kernelspec": {
      "display_name": ".venv (3.11.12)",
      "language": "python",
      "name": "python3"
    },
    "language_info": {
      "codemirror_mode": {
        "name": "ipython",
        "version": 3
      },
      "file_extension": ".py",
      "mimetype": "text/x-python",
      "name": "python",
      "nbconvert_exporter": "python",
      "pygments_lexer": "ipython3",
      "version": "3.11.12"
    },
    "colab": {
      "provenance": []
    }
  },
  "nbformat": 4,
  "nbformat_minor": 5
}