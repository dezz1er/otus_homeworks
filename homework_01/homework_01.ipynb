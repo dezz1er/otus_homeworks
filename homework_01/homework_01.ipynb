{
  "cells": [
    {
      "cell_type": "markdown",
      "id": "8955a739",
      "metadata": {
        "id": "8955a739"
      },
      "source": [
        "# Домашнее задание: Базовые типы данных\n",
        "\n"
      ]
    },
    {
      "cell_type": "markdown",
      "id": "d4e67b86",
      "metadata": {
        "id": "d4e67b86"
      },
      "source": [
        "## Задание 1: Зеркальное отражение цифр\n",
        "\n",
        "Пользователь вводит пятизначное число. Программа должна зеркально отразить три центральные цифры. Первая и последняя остаются на местах.\n",
        "\n",
        "<br>\n",
        "\n",
        "**Примеры:**\n",
        "* `23456 -> 25436`\n",
        "* `30789 -> 38709`"
      ]
    },
    {
      "cell_type": "code",
      "execution_count": 23,
      "id": "5a4d665d",
      "metadata": {
        "id": "5a4d665d",
        "outputId": "4a4f6db1-df82-4a1d-af4f-78bed626e5ac",
        "colab": {
          "base_uri": "https://localhost:8080/"
        }
      },
      "outputs": [
        {
          "output_type": "stream",
          "name": "stdout",
          "text": [
            "30789\n",
            "38709\n"
          ]
        }
      ],
      "source": [
        "input_number = input()\n",
        "result = input_number[0] + input_number[3:0:-1] + input_number[4]\n",
        "print(result)"
      ]
    },
    {
      "cell_type": "markdown",
      "id": "00b9578b",
      "metadata": {
        "id": "00b9578b"
      },
      "source": [
        "## Задание 2: Подсчет выходных до отпуска\n",
        "\n",
        "Пользователь вводит сколько дней осталось до ближайшего отпуска. Программа должна вывести количество выходных дней до отпуска, если учесть, что выходные это суббота и воскресенье, сегодня понедельник и праздники мы не учитываем.  \n",
        "\n",
        "<br>\n",
        "\n",
        "**Примеры:**\n",
        "* `4  -> 0`\n",
        "* `6  -> 1`\n",
        "* `14 -> 4`"
      ]
    },
    {
      "cell_type": "code",
      "execution_count": 27,
      "id": "07154103",
      "metadata": {
        "id": "07154103",
        "outputId": "24caf180-4e5f-4e3f-e2b7-ab268b48392a",
        "colab": {
          "base_uri": "https://localhost:8080/"
        }
      },
      "outputs": [
        {
          "output_type": "stream",
          "name": "stdout",
          "text": [
            "14\n",
            "4\n"
          ]
        }
      ],
      "source": [
        "input_number = int(input())\n",
        "full_weeks, rest_days = divmod(input_number, 7)\n",
        "answer = 2 * full_weeks + (rest_days >= 6) + (rest_days == 7)\n",
        "print(answer)"
      ]
    },
    {
      "cell_type": "markdown",
      "id": "cdde282c",
      "metadata": {
        "id": "cdde282c"
      },
      "source": [
        "## Задание 3: Плитка шоколада\n",
        "\n",
        "Пользователь вводит длину и ширину плитки шоколада, а также размер куска, который хочет отломить. Программа должна вычислить - можно ли совершить подобный разлом или нет, если учесть, что ломать можно только по прямой.\n",
        "\n",
        "<br>\n",
        "\n",
        "**Примеры:**\n",
        "* `3, 4, 6  -> True`\n",
        "* `5, 7, 8  -> False`\n",
        "* `4, 5, 12 -> True`"
      ]
    },
    {
      "cell_type": "code",
      "execution_count": 34,
      "id": "70f3324c",
      "metadata": {
        "id": "70f3324c",
        "outputId": "10f9cddc-8b74-4bb4-af71-12574f75414c",
        "colab": {
          "base_uri": "https://localhost:8080/"
        }
      },
      "outputs": [
        {
          "output_type": "stream",
          "name": "stdout",
          "text": [
            "3, 4, 6\n",
            "True\n"
          ]
        }
      ],
      "source": [
        "l, w, s = [int(i) for i in input().split(', ')]\n",
        "\n",
        "if s < w*l and (s%w==0 or s%l==0):\n",
        "    print(True)\n",
        "else:\n",
        "    print(False)"
      ]
    },
    {
      "cell_type": "markdown",
      "id": "6470efc1",
      "metadata": {
        "id": "6470efc1"
      },
      "source": [
        "## Задание 4: Римские числа\n",
        "\n",
        "Пользователь вводит целое положительное число, программа должна вернуть строку в виде римского числа.\n",
        "\n",
        "<br>\n",
        "\n",
        "**Примеры:**\n",
        "* `3   -> III`\n",
        "* `15  -> XV`\n",
        "* `234 -> CCXXXIV`"
      ]
    },
    {
      "cell_type": "code",
      "execution_count": 37,
      "id": "8686127c",
      "metadata": {
        "id": "8686127c",
        "outputId": "dcf51813-ca06-454c-9ed2-2c30f727da9a",
        "colab": {
          "base_uri": "https://localhost:8080/"
        }
      },
      "outputs": [
        {
          "output_type": "stream",
          "name": "stdout",
          "text": [
            "234\n",
            "CCXXXIV\n"
          ]
        }
      ],
      "source": [
        "num = int(input())\n",
        "value_symbols = [\n",
        "            (1000, 'M'), (900, 'CM'), (500, 'D'), (400, 'CD'),\n",
        "            (100, 'C'), (90, 'XC'), (50, 'L'), (40, 'XL'), (10, 'X'),\n",
        "            (9, 'IX'), (5, 'V'), (4, 'IV'), (1, 'I')\n",
        "        ]\n",
        "\n",
        "result = []\n",
        "\n",
        "for value, symbol in value_symbols:\n",
        "    if num == 0:\n",
        "        break\n",
        "    count = num // value\n",
        "    result.append(symbol * count)\n",
        "    num -= count * value\n",
        "\n",
        "print(''.join(result))"
      ]
    },
    {
      "cell_type": "markdown",
      "id": "ca6a4c0a",
      "metadata": {
        "id": "ca6a4c0a"
      },
      "source": [
        "## Задание 5: Проверка на вещественное число\n",
        "\n",
        "Пользователь вводит данные, проверить - являются ли они положительным вещественным числом. Не использовать встроенные функции для проверки, только методы данных и конструкцию IF. (Дополнительное задание, по желанию - проверка на отрицательные вещественные числа)\n",
        "\n",
        "<br>\n",
        "\n",
        "**Примеры:**\n",
        "* `5.6  -> True`\n",
        "* `.78  -> True`\n",
        "* `.67. -> False`\n",
        "* `5    -> True`"
      ]
    },
    {
      "cell_type": "code",
      "execution_count": null,
      "id": "74e39179",
      "metadata": {
        "id": "74e39179"
      },
      "outputs": [],
      "source": [
        "user_input = input()\n",
        "if user_input.count('.') < 2 and"
      ]
    }
  ],
  "metadata": {
    "kernelspec": {
      "display_name": ".venv (3.11.12)",
      "language": "python",
      "name": "python3"
    },
    "language_info": {
      "name": "python",
      "version": "3.11.12"
    },
    "colab": {
      "provenance": []
    }
  },
  "nbformat": 4,
  "nbformat_minor": 5
}