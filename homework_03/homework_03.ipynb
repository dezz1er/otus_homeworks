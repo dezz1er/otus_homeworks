{
  "cells": [
    {
      "cell_type": "markdown",
      "id": "e2450ffa",
      "metadata": {
        "id": "e2450ffa"
      },
      "source": [
        "# Домашнее задание: Функции"
      ]
    },
    {
      "cell_type": "markdown",
      "id": "8d062500",
      "metadata": {
        "id": "8d062500"
      },
      "source": [
        "## Задание 1: Конвертер регистров\n",
        "\n",
        "Написать функцию, которая будет переводить snake_case в PascalCase и наоборот.\n",
        "\n",
        "Функция должна сама определять - какой формат ей передали. Можно добавить ключевой аргумент, который будет принудительно возвращать один из форматов.\n",
        "\n",
        "<br>\n",
        "\n",
        "**Примеры:**\n",
        "* `otus_course     -> OtusCourse`\n",
        "* `PythonIsTheBest -> python_is_the_best`\n",
        "\n"
      ]
    },
    {
      "cell_type": "code",
      "execution_count": 4,
      "id": "ec0075f5",
      "metadata": {
        "id": "ec0075f5",
        "outputId": "da0d2481-5bc4-4995-dcd3-55f702109bd7",
        "colab": {
          "base_uri": "https://localhost:8080/"
        }
      },
      "outputs": [
        {
          "output_type": "stream",
          "name": "stdout",
          "text": [
            "OtusCourse\n",
            "python_is_the_best\n",
            "OtusCourse\n",
            "otus_course\n"
          ]
        }
      ],
      "source": [
        "def convert_case(s: str, force: str = None) -> str:\n",
        "    \"\"\"\n",
        "    Конвертирует строку между snake_case и PascalCase.\n",
        "    \"\"\"\n",
        "    def to_pascal(snake: str) -> str:\n",
        "        return ''.join(word.capitalize() for word in snake.split('_'))\n",
        "\n",
        "    def to_snake(pascal: str) -> str:\n",
        "        result = []\n",
        "        for char in pascal:\n",
        "            if char.isupper():\n",
        "                if result:\n",
        "                    result.append('_')\n",
        "                result.append(char.lower())\n",
        "            else:\n",
        "                result.append(char)\n",
        "        return ''.join(result)\n",
        "\n",
        "    if force == 'pascal':\n",
        "        return to_pascal(s)\n",
        "    elif force == 'snake':\n",
        "        return to_snake(s)\n",
        "    if '_' in s:\n",
        "        return to_pascal(s)\n",
        "    else:\n",
        "        return to_snake(s)\n",
        "print(convert_case('otus_course'))\n",
        "print(convert_case('PythonIsTheBest'))\n",
        "print(convert_case('otus_course', 'pascal'))\n",
        "print(convert_case('otus_course', 'snake'))\n"
      ]
    },
    {
      "cell_type": "markdown",
      "id": "b8253fb9",
      "metadata": {
        "id": "b8253fb9"
      },
      "source": [
        "## Задание 2: Проверка валидности даты\n",
        "\n",
        "Написать функцию проверяющую валидность введенной даты.\n",
        "\n",
        "<br>\n",
        "\n",
        "**Примеры:**\n",
        "* `29.02.2000 -> True`\n",
        "* `29.02.2001 -> False`\n",
        "* `31.04.1962 -> False`\n",
        "\n"
      ]
    },
    {
      "cell_type": "code",
      "execution_count": 5,
      "id": "e7f4e9c8",
      "metadata": {
        "id": "e7f4e9c8",
        "outputId": "1fcb9d7a-ae54-41a8-de21-4f841dc5b8c3",
        "colab": {
          "base_uri": "https://localhost:8080/"
        }
      },
      "outputs": [
        {
          "output_type": "stream",
          "name": "stdout",
          "text": [
            "True\n",
            "False\n",
            "False\n"
          ]
        }
      ],
      "source": [
        "def is_valid_date(date_str: str) -> bool:\n",
        "    \"\"\"Проверяет валидность даты в формате DD.MM.YYYY\"\"\"\n",
        "    try:\n",
        "        day_str, month_str, year_str = date_str.split('.')\n",
        "        day = int(day_str)\n",
        "        month = int(month_str)\n",
        "        year = int(year_str)\n",
        "    except ValueError:\n",
        "        return False\n",
        "\n",
        "    if year < 1 or not (1 <= month <= 12):\n",
        "        return False\n",
        "\n",
        "    # Количество дней в каждом месяце\n",
        "    month_days = [31, 28, 31, 30, 31, 30,\n",
        "                  31, 31, 30, 31, 30, 31]\n",
        "\n",
        "    # Проверка на високосный год\n",
        "    is_leap = (year % 4 == 0 and year % 100 != 0) or (year % 400 == 0)\n",
        "    if month == 2 and is_leap:\n",
        "        max_day = 29\n",
        "    else:\n",
        "        max_day = month_days[month - 1]\n",
        "\n",
        "    return 1 <= day <= max_day\n",
        "\n",
        "print(is_valid_date('29.02.2000'))\n",
        "print(is_valid_date('29.02.2001'))\n",
        "print(is_valid_date('31.04.1962'))"
      ]
    },
    {
      "cell_type": "markdown",
      "id": "2d77053e",
      "metadata": {
        "id": "2d77053e"
      },
      "source": [
        "## Задание 3: Проверка на простое число\n",
        "\n",
        "Функция проверки на простое число. Простые числа – это такие числа, которые делятся на себя и на единицу.\n",
        "\n",
        "<br>\n",
        "\n",
        "**Примеры:**\n",
        "* `17 -> True`\n",
        "* `20 -> False`\n",
        "* `23 -> True`"
      ]
    },
    {
      "cell_type": "code",
      "execution_count": 6,
      "id": "c20728f6",
      "metadata": {
        "id": "c20728f6",
        "outputId": "5144ff4b-f159-4474-e85c-f84fc2d864a5",
        "colab": {
          "base_uri": "https://localhost:8080/"
        }
      },
      "outputs": [
        {
          "output_type": "stream",
          "name": "stdout",
          "text": [
            "True\n",
            "False\n",
            "True\n",
            "False\n",
            "True\n",
            "False\n",
            "False\n"
          ]
        }
      ],
      "source": [
        "def is_prime(n: int) -> bool:\n",
        "    \"\"\"Проверяет, является ли число простым.\"\"\"\n",
        "    if n <= 1:\n",
        "        return False\n",
        "    if n == 2:\n",
        "        return True\n",
        "    if n % 2 == 0:\n",
        "        return False\n",
        "\n",
        "    # Проверяем делители до корня из n\n",
        "    for i in range(3, int(n ** 0.5) + 1, 2):\n",
        "        if n % i == 0:\n",
        "            return False\n",
        "    return True\n",
        "\n",
        "print(is_prime(17))\n",
        "print(is_prime(20))\n",
        "print(is_prime(23))\n",
        "print(is_prime(1))\n",
        "print(is_prime(2))\n",
        "print(is_prime(0))\n",
        "print(is_prime(-7))"
      ]
    },
    {
      "cell_type": "markdown",
      "id": "29703efe",
      "metadata": {
        "id": "29703efe"
      },
      "source": [
        "## Задание 4: Учет пользователей\n",
        "\n",
        "Пользователь в бесконечном цикле вводит данные пользователей: имя, затем фамилию, возраст и ID. Ввод продолжается до тех пор, пока не будет введено пустое поле.\n",
        "\n",
        "Пользователи заносятся в словарь, где ключ это ID пользователя, а остальные данные записываются в виде кортежа.\n",
        "\n",
        "**Программа должна проверять:**\n",
        "* имя и фамилия состоят только из символов и начинаются с большой буквы - если не с большой, то заменяет букву на большую;\n",
        "* возраст должен быть числом от 18 до 60;\n",
        "* ID - целое число, дополненное до 8 знаков незначащими нулями, ID должен быть уникальным.\n",
        "\n",
        "**Дополнительно:** написать функцию, которая будет выводить полученный словарь в виде таблицы."
      ]
    },
    {
      "cell_type": "code",
      "execution_count": 10,
      "id": "54d1f971",
      "metadata": {
        "id": "54d1f971",
        "outputId": "a4115f32-5bac-49fc-928b-274b00cc8d21",
        "colab": {
          "base_uri": "https://localhost:8080/"
        }
      },
      "outputs": [
        {
          "output_type": "stream",
          "name": "stdout",
          "text": [
            "Имя (Enter чтобы выйти): Иван\n",
            "Фамилия: Иванов\n",
            "Возраст: 20\n",
            "ID: 1\n",
            "Пользователь добавлен.\n",
            "\n",
            "Имя (Enter чтобы выйти): \n",
            "ID         Имя             Фамилия         Возраст \n",
            "--------------------------------------------------\n",
            "00000001   Иван            Иванов          20      \n"
          ]
        }
      ],
      "source": [
        "def validate_name(name: str) -> str:\n",
        "    if name.isalpha():\n",
        "        return name.capitalize()\n",
        "    raise ValueError(\"Имя и фамилия должны состоять только из букв.\")\n",
        "\n",
        "\n",
        "def validate_age(age: str) -> int:\n",
        "    if not age.isdigit():\n",
        "        raise ValueError(\"Возраст должен быть числом.\")\n",
        "    age_int = int(age)\n",
        "    if 18 <= age_int <= 60:\n",
        "        return age_int\n",
        "    raise ValueError(\"Возраст должен быть от 18 до 60.\")\n",
        "\n",
        "\n",
        "def validate_id(user_id: str, existing_ids: set) -> str:\n",
        "    if not user_id.isdigit():\n",
        "        raise ValueError(\"ID должен быть числом.\")\n",
        "    user_id = user_id.zfill(8)\n",
        "    if user_id in existing_ids:\n",
        "        raise ValueError(\"ID должен быть уникальным.\")\n",
        "    return user_id\n",
        "\n",
        "\n",
        "def input_users() -> dict:\n",
        "    users = {}\n",
        "\n",
        "    while True:\n",
        "        try:\n",
        "            first_name = input(\"Имя (Enter чтобы выйти): \").strip()\n",
        "            if not first_name:\n",
        "                break\n",
        "\n",
        "            last_name = input(\"Фамилия: \").strip()\n",
        "            age = input(\"Возраст: \").strip()\n",
        "            user_id = input(\"ID: \").strip()\n",
        "\n",
        "            first_name = validate_name(first_name)\n",
        "            last_name = validate_name(last_name)\n",
        "            age = validate_age(age)\n",
        "            user_id = validate_id(user_id, users.keys())\n",
        "\n",
        "            users[user_id] = (first_name, last_name, age)\n",
        "            print(\"Пользователь добавлен.\\n\")\n",
        "\n",
        "        except ValueError as e:\n",
        "            print(f\"Ошибка валидации: {e}\\n\")\n",
        "\n",
        "    return users\n",
        "\n",
        "\n",
        "def print_user_table(users: dict) -> None:\n",
        "    print(f\"{'ID':<10} {'Имя':<15} {'Фамилия':<15} {'Возраст':<8}\")\n",
        "    print(\"-\" * 50)\n",
        "    for uid, (first, last, age) in users.items():\n",
        "        print(f\"{uid:<10} {first:<15} {last:<15} {age:<8}\")\n",
        "\n",
        "\n",
        "users = input_users()\n",
        "print_user_table(users)"
      ]
    }
  ],
  "metadata": {
    "kernelspec": {
      "display_name": ".venv (3.11.12)",
      "language": "python",
      "name": "python3"
    },
    "language_info": {
      "name": "python",
      "version": "3.11.12"
    },
    "colab": {
      "provenance": []
    }
  },
  "nbformat": 4,
  "nbformat_minor": 5
}